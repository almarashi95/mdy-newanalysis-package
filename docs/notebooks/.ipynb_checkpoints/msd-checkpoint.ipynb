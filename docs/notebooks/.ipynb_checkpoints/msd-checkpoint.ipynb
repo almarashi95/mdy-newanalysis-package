{
 "cells": [
  {
   "cell_type": "markdown",
   "id": "1e3ff2cc",
   "metadata": {},
   "source": [
    "# MSD"
   ]
  },
  {
   "cell_type": "code",
   "execution_count": 3,
   "id": "ff3dba1f",
   "metadata": {},
   "outputs": [],
   "source": [
    "from newanalysis.diffusion import msdCOM"
   ]
  },
  {
   "cell_type": "code",
   "execution_count": null,
   "id": "7fce42ea",
   "metadata": {},
   "outputs": [],
   "source": []
  }
 ],
 "metadata": {
  "kernelspec": {
   "display_name": "newanalysis-dev",
   "language": "python",
   "name": "newanalysis-dev"
  },
  "language_info": {
   "codemirror_mode": {
    "name": "ipython",
    "version": 3
   },
   "file_extension": ".py",
   "mimetype": "text/x-python",
   "name": "python",
   "nbconvert_exporter": "python",
   "pygments_lexer": "ipython3",
   "version": "3.10.0"
  }
 },
 "nbformat": 4,
 "nbformat_minor": 5
}
