{
 "cells": [
  {
   "cell_type": "markdown",
   "id": "4c8e3957",
   "metadata": {},
   "source": [
    "# Mean squared displacement"
   ]
  },
  {
   "cell_type": "markdown",
   "id": "1c6313ee",
   "metadata": {},
   "source": [
    "We calculate the mean squared displacement (msd) as well as the msdmj to obtain diffusion and conductivity."
   ]
  },
  {
   "cell_type": "code",
   "execution_count": 29,
   "id": "ff3dba1f",
   "metadata": {},
   "outputs": [],
   "source": [
    "import time\n",
    "import sys\n",
    "import numpy as np\n",
    "import matplotlib.pyplot as plt\n",
    "try:\n",
    "    import MDAnalysis\n",
    "except ModuleNotFoundError:\n",
    "    !conda install --yes --prefix {sys.prefix} MDAnalysis\n",
    "    import MDAnalysis"
   ]
  },
  {
   "cell_type": "markdown",
   "id": "320587cd",
   "metadata": {},
   "source": [
    "The following functions are imported from out newanalysis extension:"
   ]
  },
  {
   "cell_type": "code",
   "execution_count": 30,
   "id": "54d01749",
   "metadata": {},
   "outputs": [],
   "source": [
    "from newanalysis.diffusion import unfoldTraj, msdCOM, msdMJ"
   ]
  },
  {
   "cell_type": "markdown",
   "id": "50067a0f",
   "metadata": {},
   "source": [
    "## Preprocessing"
   ]
  },
  {
   "cell_type": "markdown",
   "id": "d9856f8d",
   "metadata": {},
   "source": [
    "Next we create our MDAnalysis Universe:"
   ]
  },
  {
   "cell_type": "code",
   "execution_count": 31,
   "id": "3e3d8400",
   "metadata": {},
   "outputs": [
    {
     "name": "stderr",
     "output_type": "stream",
     "text": [
      "/home/flo/miniconda3/envs/newanalysis-dev/lib/python3.10/site-packages/MDAnalysis/coordinates/DCD.py:165: DeprecationWarning: DCDReader currently makes independent timesteps by copying self.ts while other readers update self.ts inplace. This behavior will be changed in 3.0 to be the same as other readers. Read more at https://github.com/MDAnalysis/mdanalysis/issues/3889 to learn if this change in behavior might affect you.\n",
      "  warnings.warn(\"DCDReader currently makes independent timesteps\"\n"
     ]
    }
   ],
   "source": [
    "base='../../test_cases/data/emim_dca_equilibrium/'\n",
    "psf=base+'emim_dca.psf'\n",
    "\n",
    "skip=20\n",
    "u=MDAnalysis.Universe(psf,base+\"/emim_dca.dcd\")\n",
    "boxl = np.float64(round(u.coord.dimensions[0],4))\n",
    "dt=round(u.trajectory.dt,4)\n",
    "\n",
    "n = int(u.trajectory.n_frames/skip)\n",
    "if u.trajectory.n_frames%skip != 0:\n",
    "    n+=1"
   ]
  },
  {
   "cell_type": "markdown",
   "id": "c489d9fd",
   "metadata": {},
   "source": [
    "Now we do the selections"
   ]
  },
  {
   "cell_type": "code",
   "execution_count": 32,
   "id": "a9060c70",
   "metadata": {},
   "outputs": [
    {
     "name": "stdout",
     "output_type": "stream",
     "text": [
      "Number EMIM   =  1000\n",
      "Number DCA   =  1000\n"
     ]
    }
   ],
   "source": [
    "sel_cat1  = u.select_atoms(\"resname EMIM\")\n",
    "ncat1     = sel_cat1.n_residues\n",
    "com_cat1  = np.zeros((n,ncat1,3),dtype=np.float64)\n",
    "print(\"Number EMIM   = \",ncat1)\n",
    "\n",
    "sel_an1  = u.select_atoms(\"resname DCA\")\n",
    "nan1     = sel_an1.n_residues\n",
    "com_an1  = np.zeros((n,nan1, 3),dtype=np.float64)\n",
    "print(\"Number DCA   = \",nan1)"
   ]
  },
  {
   "cell_type": "markdown",
   "id": "922bc613",
   "metadata": {},
   "source": [
    "Loop throguh the trajectory and get the center of masses"
   ]
  },
  {
   "cell_type": "code",
   "execution_count": 33,
   "id": "44b878f5",
   "metadata": {},
   "outputs": [
    {
     "name": "stdout",
     "output_type": "stream",
     "text": [
      "\n",
      "\u001b[1AFrame 0 of 100 \tElapsed time: 0.00 hours\n",
      "\u001b[1AFrame 20 of 100 \tElapsed time: 0.00 hours\n",
      "\u001b[1AFrame 40 of 100 \tElapsed time: 0.00 hours\n",
      "\u001b[1AFrame 60 of 100 \tElapsed time: 0.00 hours\n",
      "\u001b[1AFrame 80 of 100 \tElapsed time: 0.00 hours\n"
     ]
    }
   ],
   "source": [
    "ctr=0\n",
    "start=time.time()\n",
    "print(\"\")\n",
    "\n",
    "for ts in u.trajectory[::skip]:\n",
    "    print(\"\\033[1AFrame %d of %d\" % (ts.frame,len(u.trajectory)), \"\\tElapsed time: %.2f hours\" % ((time.time()-start)/3600))\n",
    "    com_an1[ctr] = sel_an1.center_of_mass(compound='residues')\n",
    "    com_cat1[ctr]= sel_cat1.center_of_mass(compound='residues')\n",
    "    ctr+=1"
   ]
  },
  {
   "cell_type": "markdown",
   "id": "2d0022e0",
   "metadata": {},
   "source": [
    "## Using newanalysis functions"
   ]
  },
  {
   "cell_type": "markdown",
   "id": "64293537",
   "metadata": {},
   "source": [
    "We now use the unfoldTraj function to undo all jumps due to PBC. This is done in-place."
   ]
  },
  {
   "cell_type": "code",
   "execution_count": 34,
   "id": "0af38650",
   "metadata": {},
   "outputs": [
    {
     "name": "stdout",
     "output_type": "stream",
     "text": [
      "unfolding coordinates ..\n"
     ]
    }
   ],
   "source": [
    "print(\"unfolding coordinates ..\")\n",
    "unfoldTraj(com_cat1,boxl); #; to suppress output\n",
    "unfoldTraj(com_an1, boxl);"
   ]
  },
  {
   "cell_type": "markdown",
   "id": "78ea18d1",
   "metadata": {},
   "source": [
    "Next we can calculate msd and msdmj"
   ]
  },
  {
   "cell_type": "code",
   "execution_count": 35,
   "id": "7fce42ea",
   "metadata": {},
   "outputs": [
    {
     "name": "stdout",
     "output_type": "stream",
     "text": [
      "calculating msd ..\n",
      "calculating msdMJ ..\n"
     ]
    }
   ],
   "source": [
    "print(\"calculating msd ..\")\n",
    "msd_an1  = msdCOM(com_an1)\n",
    "msd_cat1 = msdCOM(com_cat1)\n",
    "\n",
    "#fan1=open(\"msd_an.dat\",'w')\n",
    "#fcat1=open(\"msd_cat.dat\",'w')\n",
    "\n",
    "#for i in range(ctr):\n",
    "#    fan1.write(\"%5.5f\\t%5.5f\\n\"  % (i*skip*dt, msd_an1[i]))\n",
    "#    fcat1.write(\"%5.5f\\t%5.5f\\n\" % (i*skip*dt, msd_cat1[i]))\n",
    "    \n",
    "print(\"calculating msdMJ ..\")\n",
    "msdmj = msdMJ(com_cat1,com_an1)\n",
    "#f1=open(\"msdMJ.dat\",'w')\n",
    "#for i in range(ctr):\n",
    "#    f1.write(\"%5.5f\\t%5.5f\\n\" % (i*skip*dt, msdmj[i]))\n",
    "#f1.close()"
   ]
  },
  {
   "cell_type": "markdown",
   "id": "bb1a535e",
   "metadata": {},
   "source": [
    "## Plot the results"
   ]
  },
  {
   "cell_type": "code",
   "execution_count": 48,
   "id": "a3931984",
   "metadata": {},
   "outputs": [
    {
     "data": {
      "image/png": "[encoded data removed]",
      "text/plain": [
       "<Figure size 640x480 with 1 Axes>"
      ]
     },
     "metadata": {},
     "output_type": "display_data"
    }
   ],
   "source": [
    "time = np.arange(ctr*dt)\n",
    "\n",
    "plt.title(\"MSD\")\n",
    "plt.plot(time, msd_an1, label=\"DCA\")\n",
    "plt.plot(time, msd_cat1, label=\"EMIM\")\n",
    "#plt.plot(time, msdmj, label=\"Cond.\")\n",
    "plt.legend()\n",
    "plt.show()"
   ]
  },
  {
   "cell_type": "code",
   "execution_count": null,
   "id": "46fe6cd1",
   "metadata": {},
   "outputs": [],
   "source": [
    "plt.title(\"MSDMJ\")\n",
    "plt.plot(time, msdmj, label=\"Cond.\")\n",
    "plt.legend();"
   ]
  },
  {
   "cell_type": "code",
   "execution_count": 50,
   "id": "e56310a6",
   "metadata": {},
   "outputs": [
    {
     "data": {
      "text/plain": [
       "'2.4.2'"
      ]
     },
     "execution_count": 50,
     "metadata": {},
     "output_type": "execute_result"
    }
   ],
   "source": [
    "MDAnalysis.__version__"
   ]
  },
  {
   "cell_type": "code",
   "execution_count": null,
   "id": "c6d84fdb",
   "metadata": {},
   "outputs": [],
   "source": []
  }
 ],
 "metadata": {
  "kernelspec": {
   "display_name": "newanalysis-dev",
   "language": "python",
   "name": "newanalysis-dev"
  },
  "language_info": {
   "codemirror_mode": {
    "name": "ipython",
    "version": 3
   },
   "file_extension": ".py",
   "mimetype": "text/x-python",
   "name": "python",
   "nbconvert_exporter": "python",
   "pygments_lexer": "ipython3",
   "version": "3.10.0"
  }
 },
 "nbformat": 4,
 "nbformat_minor": 5
}
