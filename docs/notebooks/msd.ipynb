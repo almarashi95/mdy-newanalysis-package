{
 "cells": [
  {
   "cell_type": "markdown",
   "id": "1f3a34f2",
   "metadata": {},
   "source": [
    "[![Open in Colab](https://colab.research.google.com/assets/colab-badge.svg)](https://colab.research.google.com/github/cbc-univie/mdy-newanalysis-package/blob/master/docs/notebooks/msd.ipynb)"
   ]
  },
  {
   "cell_type": "markdown",
   "id": "5515278d",
   "metadata": {},
   "source": [
    "# Mean squared displacement"
   ]
  },
  {
   "cell_type": "markdown",
   "id": "1fb8776a",
   "metadata": {},
   "source": [
    "We calculate the mean squared displacement (msd) as well as the msdmj to obtain diffusion and conductivity."
   ]
  },
  {
   "cell_type": "code",
   "execution_count": 2,
   "id": "ff3dba1f",
   "metadata": {},
   "outputs": [],
   "source": [
    "import time\n",
    "import sys\n",
    "import numpy as np\n",
    "import matplotlib.pyplot as plt"
   ]
  },
  {
   "cell_type": "markdown",
   "id": "95da3a41",
   "metadata": {},
   "source": [
    "The following functions are imported from out newanalysis extension:"
   ]
  },
  {
   "cell_type": "code",
   "execution_count": 3,
   "id": "20845533",
   "metadata": {},
   "outputs": [
    {
     "name": "stdout",
     "output_type": "stream",
     "text": [
      "Install newanalysis fist.\n",
      "Go to the newanalysis_source folder and run:\n",
      "conda activate newanalysis-dev\n",
      "pip install .\n"
     ]
    },
    {
     "ename": "ModuleNotFoundError",
     "evalue": "No module named 'newanalysis'",
     "output_type": "error",
     "traceback": [
      "\u001b[0;31m---------------------------------------------------------------------------\u001b[0m",
      "\u001b[0;31mModuleNotFoundError\u001b[0m                       Traceback (most recent call last)",
      "Cell \u001b[0;32mIn[3], line 30\u001b[0m\n\u001b[1;32m     28\u001b[0m \u001b[38;5;28mprint\u001b[39m(\u001b[38;5;124m\"\u001b[39m\u001b[38;5;124mconda activate newanalysis-dev\u001b[39m\u001b[38;5;124m\"\u001b[39m)\n\u001b[1;32m     29\u001b[0m \u001b[38;5;28mprint\u001b[39m(\u001b[38;5;124m\"\u001b[39m\u001b[38;5;124mpip install .\u001b[39m\u001b[38;5;124m\"\u001b[39m)\n\u001b[0;32m---> 30\u001b[0m \u001b[38;5;28;01mraise\u001b[39;00m(e)\n",
      "Cell \u001b[0;32mIn[3], line 24\u001b[0m\n\u001b[1;32m     22\u001b[0m     \u001b[38;5;28;01mimport\u001b[39;00m \u001b[38;5;21;01mMDAnalysis\u001b[39;00m\n\u001b[1;32m     23\u001b[0m \u001b[38;5;28;01mtry\u001b[39;00m:\n\u001b[0;32m---> 24\u001b[0m     \u001b[38;5;28;01mfrom\u001b[39;00m \u001b[38;5;21;01mnewanalysis\u001b[39;00m\u001b[38;5;21;01m.\u001b[39;00m\u001b[38;5;21;01mdiffusion\u001b[39;00m \u001b[38;5;28;01mimport\u001b[39;00m unfoldTraj, msdCOM, msdMJ\n\u001b[1;32m     25\u001b[0m \u001b[38;5;28;01mexcept\u001b[39;00m \u001b[38;5;167;01mModuleNotFoundError\u001b[39;00m \u001b[38;5;28;01mas\u001b[39;00m e:\n\u001b[1;32m     26\u001b[0m     \u001b[38;5;28mprint\u001b[39m(\u001b[38;5;124m\"\u001b[39m\u001b[38;5;124mInstall newanalysis fist.\u001b[39m\u001b[38;5;124m\"\u001b[39m)\n",
      "\u001b[0;31mModuleNotFoundError\u001b[0m: No module named 'newanalysis'"
     ]
    }
   ],
   "source": [
    "IN_COLAB = 'google.colab' in sys.modules\n",
    "HAS_NEWANALYSIS = 'newanalysis' in sys.modules\n",
    "if IN_COLAB:\n",
    "    if not'MDAnalysis' in sys.modules:\n",
    "        !pip install MDAnalysis\n",
    "        import MDAnalysis\n",
    "    import os\n",
    "    if not os.path.exists(\"/content/mdy-newanalysis-package/\"):\n",
    "        !git clone https://github.com/cbc-univie/mdy-newanalysis-package.git\n",
    "    !pwd\n",
    "    if not HAS_NEWANALYSIS:\n",
    "        %cd /content/mdy-newanalysis-package/newanalysis_source/\n",
    "        !pip install .\n",
    "    %cd /content/mdy-newanalysis-package/docs/notebooks/\n",
    "#if IN_COLAB and not HAS_NEWANALYSIS:\n",
    "#    !pip install \"git+https://github.com/cbc-univie/mdy-newanalysis-package.git@master#egg=newanalysis&subdirectory=newanalysis_source\"\n",
    "else:\n",
    "    try:\n",
    "        import MDAnalysis\n",
    "    except ModuleNotFoundError:\n",
    "        !conda install --yes --prefix {sys.prefix} MDAnalysis\n",
    "        import MDAnalysis\n",
    "    try:\n",
    "        from newanalysis.diffusion import unfoldTraj, msdCOM, msdMJ\n",
    "    except ModuleNotFoundError as e:\n",
    "        print(\"Install newanalysis fist.\")\n",
    "        print(\"Go to the newanalysis_source folder and run:\")\n",
    "        print(\"conda activate newanalysis-dev\")\n",
    "        print(\"pip install .\")\n",
    "        raise(e)"
   ]
  },
  {
   "cell_type": "markdown",
   "id": "6f8c1f63",
   "metadata": {},
   "source": [
    "## Preprocessing"
   ]
  },
  {
   "cell_type": "markdown",
   "id": "d9a4e344",
   "metadata": {},
   "source": [
    "Next we create our MDAnalysis Universe:"
   ]
  },
  {
   "cell_type": "code",
   "execution_count": 31,
   "id": "d664f2b4",
   "metadata": {},
   "outputs": [
    {
     "name": "stderr",
     "output_type": "stream",
     "text": [
      "/home/flo/miniconda3/envs/newanalysis-dev/lib/python3.10/site-packages/MDAnalysis/coordinates/DCD.py:165: DeprecationWarning: DCDReader currently makes independent timesteps by copying self.ts while other readers update self.ts inplace. This behavior will be changed in 3.0 to be the same as other readers. Read more at https://github.com/MDAnalysis/mdanalysis/issues/3889 to learn if this change in behavior might affect you.\n",
      "  warnings.warn(\"DCDReader currently makes independent timesteps\"\n"
     ]
    }
   ],
   "source": [
    "base='../../test_cases/data/emim_dca_equilibrium/'\n",
    "psf=base+'emim_dca.psf'\n",
    "\n",
    "skip=20\n",
    "u=MDAnalysis.Universe(psf,base+\"/emim_dca.dcd\")\n",
    "boxl = np.float64(round(u.coord.dimensions[0],4))\n",
    "dt=round(u.trajectory.dt,4)\n",
    "\n",
    "n = int(u.trajectory.n_frames/skip)\n",
    "if u.trajectory.n_frames%skip != 0:\n",
    "    n+=1"
   ]
  },
  {
   "cell_type": "markdown",
   "id": "fe28f64e",
   "metadata": {},
   "source": [
    "Now we do the selections"
   ]
  },
  {
   "cell_type": "code",
   "execution_count": 32,
   "id": "998f92e6",
   "metadata": {},
   "outputs": [
    {
     "name": "stdout",
     "output_type": "stream",
     "text": [
      "Number EMIM   =  1000\n",
      "Number DCA   =  1000\n"
     ]
    }
   ],
   "source": [
    "sel_cat1  = u.select_atoms(\"resname EMIM\")\n",
    "ncat1     = sel_cat1.n_residues\n",
    "com_cat1  = np.zeros((n,ncat1,3),dtype=np.float64)\n",
    "print(\"Number EMIM   = \",ncat1)\n",
    "\n",
    "sel_an1  = u.select_atoms(\"resname DCA\")\n",
    "nan1     = sel_an1.n_residues\n",
    "com_an1  = np.zeros((n,nan1, 3),dtype=np.float64)\n",
    "print(\"Number DCA   = \",nan1)"
   ]
  },
  {
   "cell_type": "markdown",
   "id": "f5d1b632",
   "metadata": {},
   "source": [
    "Loop throguh the trajectory and get the center of masses"
   ]
  },
  {
   "cell_type": "code",
   "execution_count": 33,
   "id": "d78f9648",
   "metadata": {},
   "outputs": [
    {
     "name": "stdout",
     "output_type": "stream",
     "text": [
      "\n",
      "\u001b[1AFrame 0 of 100 \tElapsed time: 0.00 hours\n",
      "\u001b[1AFrame 20 of 100 \tElapsed time: 0.00 hours\n",
      "\u001b[1AFrame 40 of 100 \tElapsed time: 0.00 hours\n",
      "\u001b[1AFrame 60 of 100 \tElapsed time: 0.00 hours\n",
      "\u001b[1AFrame 80 of 100 \tElapsed time: 0.00 hours\n"
     ]
    }
   ],
   "source": [
    "ctr=0\n",
    "start=time.time()\n",
    "print(\"\")\n",
    "\n",
    "for ts in u.trajectory[::skip]:\n",
    "    print(\"\\033[1AFrame %d of %d\" % (ts.frame,len(u.trajectory)), \"\\tElapsed time: %.2f hours\" % ((time.time()-start)/3600))\n",
    "    com_an1[ctr] = sel_an1.center_of_mass(compound='residues')\n",
    "    com_cat1[ctr]= sel_cat1.center_of_mass(compound='residues')\n",
    "    ctr+=1"
   ]
  },
  {
   "cell_type": "markdown",
   "id": "a0542745",
   "metadata": {},
   "source": [
    "## Using newanalysis functions"
   ]
  },
  {
   "cell_type": "markdown",
   "id": "d509c255",
   "metadata": {},
   "source": [
    "We now use the unfoldTraj function to undo all jumps due to PBC. This is done in-place."
   ]
  },
  {
   "cell_type": "code",
   "execution_count": 34,
   "id": "76748098",
   "metadata": {},
   "outputs": [
    {
     "name": "stdout",
     "output_type": "stream",
     "text": [
      "unfolding coordinates ..\n"
     ]
    }
   ],
   "source": [
    "print(\"unfolding coordinates ..\")\n",
    "unfoldTraj(com_cat1,boxl); #; to suppress output\n",
    "unfoldTraj(com_an1, boxl);"
   ]
  },
  {
   "cell_type": "markdown",
   "id": "a79ea958",
   "metadata": {},
   "source": [
    "Next we can calculate msd and msdmj"
   ]
  },
  {
   "cell_type": "code",
   "execution_count": 35,
   "id": "7fce42ea",
   "metadata": {},
   "outputs": [
    {
     "name": "stdout",
     "output_type": "stream",
     "text": [
      "calculating msd ..\n",
      "calculating msdMJ ..\n"
     ]
    }
   ],
   "source": [
    "print(\"calculating msd ..\")\n",
    "msd_an1  = msdCOM(com_an1)\n",
    "msd_cat1 = msdCOM(com_cat1)\n",
    "\n",
    "#fan1=open(\"msd_an.dat\",'w')\n",
    "#fcat1=open(\"msd_cat.dat\",'w')\n",
    "\n",
    "#for i in range(ctr):\n",
    "#    fan1.write(\"%5.5f\\t%5.5f\\n\"  % (i*skip*dt, msd_an1[i]))\n",
    "#    fcat1.write(\"%5.5f\\t%5.5f\\n\" % (i*skip*dt, msd_cat1[i]))\n",
    "    \n",
    "print(\"calculating msdMJ ..\")\n",
    "msdmj = msdMJ(com_cat1,com_an1)\n",
    "#f1=open(\"msdMJ.dat\",'w')\n",
    "#for i in range(ctr):\n",
    "#    f1.write(\"%5.5f\\t%5.5f\\n\" % (i*skip*dt, msdmj[i]))\n",
    "#f1.close()"
   ]
  },
  {
   "cell_type": "markdown",
   "id": "51b054b7",
   "metadata": {},
   "source": [
    "## Plot the results"
   ]
  },
  {
   "cell_type": "code",
   "execution_count": 59,
   "id": "0b89b9e7",
   "metadata": {
    "tags": [
     "nbsphinx-thumbnail"
    ]
   },
   "outputs": [
    {
     "data": {
      "image/png": "[encoded data removed]",
      "text/plain": [
       "<Figure size 640x480 with 1 Axes>"
      ]
     },
     "metadata": {},
     "output_type": "display_data"
    }
   ],
   "source": [
    "time = np.arange(ctr*dt)\n",
    "\n",
    "plt.title(\"MSD\")\n",
    "plt.plot(time, msd_an1, label=\"DCA\")\n",
    "plt.plot(time, msd_cat1, label=\"EMIM\")\n",
    "plt.legend();"
   ]
  },
  {
   "cell_type": "code",
   "execution_count": 57,
   "id": "1ce03cef",
   "metadata": {},
   "outputs": [
    {
     "data": {
      "image/png": "[encoded data removed]",
      "text/plain": [
       "<Figure size 640x480 with 1 Axes>"
      ]
     },
     "metadata": {},
     "output_type": "display_data"
    }
   ],
   "source": [
    "plt.title(\"MSDMJ\")\n",
    "plt.plot(time, msdmj, label=\"Cond.\")\n",
    "plt.legend();"
   ]
  }
 ],
 "metadata": {
  "kernelspec": {
   "display_name": "newanalysis-dev",
   "language": "python",
   "name": "newanalysis-dev"
  },
  "language_info": {
   "codemirror_mode": {
    "name": "ipython",
    "version": 3
   },
   "file_extension": ".py",
   "mimetype": "text/x-python",
   "name": "python",
   "nbconvert_exporter": "python",
   "pygments_lexer": "ipython3",
   "version": "3.10.0"
  }
 },
 "nbformat": 4,
 "nbformat_minor": 5
}
