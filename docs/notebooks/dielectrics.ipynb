{
 "cells": [
  {
   "cell_type": "markdown",
   "id": "0f024b5d",
   "metadata": {},
   "source": [
    "[![Open in Colab](https://colab.research.google.com/assets/colab-badge.svg)](['a href=', 'https://colab.research.google.com/github/cbc-univie/mdy-newanalysis-package/blob/master/docs/notebooks/dielectrics.ipynb', ' target=', '_parent', ''])"
   ]
  },
  {
   "cell_type": "markdown",
   "id": "5515278d",
   "metadata": {},
   "source": [
    "# Dielectrics"
   ]
  },
  {
   "cell_type": "markdown",
   "id": "1fb8776a",
   "metadata": {},
   "source": [
    "We calculate MDMD."
   ]
  },
  {
   "cell_type": "code",
   "execution_count": 23,
   "id": "ff3dba1f",
   "metadata": {},
   "outputs": [],
   "source": [
    "import time\n",
    "import sys\n",
    "import numpy as np\n",
    "import matplotlib.pyplot as plt\n",
    "from pathlib import Path\n",
    "import glob\n",
    "try:\n",
    "    import MDAnalysis\n",
    "except ModuleNotFoundError:\n",
    "    !conda install --yes --prefix {sys.prefix} MDAnalysis\n",
    "    import MDAnalysis"
   ]
  },
  {
   "cell_type": "markdown",
   "id": "95da3a41",
   "metadata": {},
   "source": [
    "The following functions are imported from out newanalysis extension:"
   ]
  },
  {
   "cell_type": "code",
   "execution_count": 24,
   "id": "20845533",
   "metadata": {},
   "outputs": [],
   "source": [
    "try:\n",
    "    from newanalysis.correl import correlateParallel\n",
    "    from newanalysis.helpers import dipByResidue\n",
    "    from newanalysis.functions import atomsPerResidue, residueFirstAtom\n",
    "except ModuleNotFoundError as e:\n",
    "    print(\"Install newanalysis fist.\")\n",
    "    print(\"Go to the newanalysis_source folder and run:\")\n",
    "    print(\"conda activate newanalysis-dev\")\n",
    "    print(\"pip install .\")\n",
    "    raise(e)"
   ]
  },
  {
   "cell_type": "markdown",
   "id": "6f8c1f63",
   "metadata": {},
   "source": [
    "## Preprocessing"
   ]
  },
  {
   "cell_type": "markdown",
   "id": "d9a4e344",
   "metadata": {},
   "source": [
    "Next we create our MDAnalysis Universe:"
   ]
  },
  {
   "cell_type": "code",
   "execution_count": 25,
   "id": "d664f2b4",
   "metadata": {},
   "outputs": [],
   "source": [
    "base='../../test_cases/data/emim_dca_equilibrium/'\n",
    "psf=base+'emim_dca.psf'\n",
    "#Check PSF:\n",
    "if np.array_equal(MDAnalysis.Universe(psf).atoms.masses, MDAnalysis.Universe(psf).atoms.masses.astype(bool)):\n",
    "    print(\"Used wrong PSF format (masses unreadable!)\")\n",
    "    sys.exit()\n",
    "\n",
    "u=MDAnalysis.Universe(psf,base+\"emim_dca.dcd\")\n",
    "\n",
    "skip=20\n",
    "dt=round(u.trajectory.dt,4)\n",
    "\n",
    "n = int(u.trajectory.n_frames/skip)\n",
    "if u.trajectory.n_frames%skip != 0:\n",
    "    n+=1"
   ]
  },
  {
   "cell_type": "markdown",
   "id": "fe28f64e",
   "metadata": {},
   "source": [
    "Now we do the selections"
   ]
  },
  {
   "cell_type": "code",
   "execution_count": 26,
   "id": "998f92e6",
   "metadata": {},
   "outputs": [
    {
     "name": "stdout",
     "output_type": "stream",
     "text": [
      "Number EMIM   =  1000\n",
      "Number DCA    =  1000\n"
     ]
    }
   ],
   "source": [
    "sel_cat1  = u.select_atoms(\"resname EMIM\")\n",
    "ncat1     = sel_cat1.n_residues\n",
    "mass_cat1 = sel_cat1.masses\n",
    "charge_cat1 = sel_cat1.charges\n",
    "com_cat1  = np.zeros((n,ncat1,3),dtype=np.float64)\n",
    "mdcat1    = np.zeros((n,3),dtype=np.float64)\n",
    "apr_cat1 = atomsPerResidue(sel_cat1)\n",
    "rfa_cat1 = residueFirstAtom(sel_cat1)\n",
    "\n",
    "\n",
    "print(\"Number EMIM   = \",ncat1)\n",
    "\n",
    "sel_an1  = u.select_atoms(\"resname DCA\")\n",
    "nan1     = sel_an1.n_residues\n",
    "mass_an1 = sel_an1.masses\n",
    "charge_an1 = sel_an1.charges\n",
    "com_an1  = np.zeros((n,nan1, 3),dtype=np.float64)\n",
    "mdan1    = np.zeros((n,3),dtype=np.float64)\n",
    "apr_an1 = atomsPerResidue(sel_an1)\n",
    "rfa_an1 = residueFirstAtom(sel_an1)\n",
    "\n",
    "print(\"Number DCA    = \",nan1)"
   ]
  },
  {
   "cell_type": "markdown",
   "id": "791aeff3",
   "metadata": {},
   "source": [
    "## Analysis"
   ]
  },
  {
   "cell_type": "code",
   "execution_count": 27,
   "id": "5ef3bf49",
   "metadata": {},
   "outputs": [
    {
     "name": "stdout",
     "output_type": "stream",
     "text": [
      "\n",
      "\u001b[1AFrame 0 of 100 \tElapsed time: 0.00 hours\n",
      "\u001b[1AFrame 20 of 100 \tElapsed time: 0.00 hours\n",
      "\u001b[1AFrame 40 of 100 \tElapsed time: 0.00 hours\n",
      "\u001b[1AFrame 60 of 100 \tElapsed time: 0.00 hours\n",
      "\u001b[1AFrame 80 of 100 \tElapsed time: 0.00 hours\n"
     ]
    }
   ],
   "source": [
    "md = np.zeros((n,3),dtype=np.float64)\n",
    "\n",
    "ctr=0\n",
    "start=time.time()\n",
    "print(\"\")\n",
    "\n",
    "for ts in u.trajectory[::skip]:\n",
    "    print(\"\\033[1AFrame %d of %d\" % (ts.frame,u.trajectory.n_frames), \"\\tElapsed time: %.2f hours\" % ((time.time()-start)/3600))\n",
    "    \n",
    "    # efficiently calculate center-of-mass coordinates\n",
    "    coor_cat1 = np.ascontiguousarray(sel_cat1.positions,dtype='double')\n",
    "    coor_an1 = np.ascontiguousarray(sel_an1.positions,dtype='double')\n",
    "    com_an1  = sel_an1.center_of_mass(compound='residues')\n",
    "    com_cat1 = sel_cat1.center_of_mass(compound='residues')\n",
    "    mdcat1[ctr] += np.sum(dipByResidue(coor_cat1,charge_cat1,mass_cat1,ncat1,apr_cat1,rfa_cat1,com_cat1),axis=0)\n",
    "    mdan1[ctr] += np.sum(dipByResidue(coor_an1,charge_an1,mass_an1,nan1,apr_an1,rfa_an1,com_an1),axis=0)\n",
    "\n",
    "    #Alternatively, use\n",
    "    #com_an1  = centerOfMassByResidue(sel_an1,coor=coor_an1,masses=mass_an1,apr=apr_an1,rfa=rfa_an1)\n",
    "    #com_cat1 = centerOfMassByResidue(sel_cat1,coor=coor_cat1,masses=mass_cat1,apr=apr_cat1,rfa=rfa_cat1)\n",
    "    #mdcat1[ctr] += np.sum(dipoleMomentByResidue(sel_cat1,coor=coor_cat1,charges=charge_cat1,masses=mass_cat1,com=com_cat1,apr=apr_cat1,rfa=rfa_cat1),axis=0)\n",
    "    #mdan1[ctr]  += np.sum(dipoleMomentByResidue(sel_an1,coor=coor_an1,charges=charge_an1,masses=mass_an1,com=com_an1,apr=apr_an1,rfa=rfa_an1),axis=0)\n",
    "\n",
    "    md[ctr]     += mdcat1[ctr]+mdan1[ctr]\n",
    "    ctr+=1"
   ]
  },
  {
   "cell_type": "markdown",
   "id": "d9d5ef3c",
   "metadata": {},
   "source": [
    "Calculate <MD(0)MD(t)>"
   ]
  },
  {
   "cell_type": "code",
   "execution_count": 28,
   "id": "c908acd9",
   "metadata": {},
   "outputs": [
    {
     "name": "stdout",
     "output_type": "stream",
     "text": [
      "calculating <MD(0)MD(t)>\n"
     ]
    }
   ],
   "source": [
    "print(\"calculating <MD(0)MD(t)>\")\n",
    "\n",
    "# total\n",
    "md = np.ascontiguousarray(md.T)\n",
    "md0mdt = np.zeros(n)\n",
    "correlateParallel(md,md,md0mdt,ltc=1)\n",
    "\n",
    "#f1 = open(\"md0mdt.dat\",'w')\n",
    "#for i in range(len(md0mdt)):\n",
    "#    f1.write(\"%5.5f\\t%5.5f\\n\" % (i*skip*dt, md0mdt[i]))\n",
    "#f1.close()\n",
    "\n",
    "# cations\n",
    "mdcat1 = np.ascontiguousarray(mdcat1.T)\n",
    "md0mdt_cat = np.zeros(n)\n",
    "correlateParallel(mdcat1,md,md0mdt_cat,ltc=1)\n",
    "#f1 = open(\"md0mdt_emim.dat\",'w')\n",
    "#for i in range(len(md0mdt)):\n",
    "#    f1.write(\"%5.5f\\t%5.5f\\n\" % (i*skip*dt, md0mdt[i]))\n",
    "#f1.close()\n",
    "\n",
    "\n",
    "# anions\n",
    "mdan1 = np.ascontiguousarray(mdan1.T)\n",
    "md0mdt_an = np.zeros(n)\n",
    "correlateParallel(mdan1,md,md0mdt_an,ltc=1)\n",
    "#f1 = open(\"md0mdt_dca.dat\",'w')\n",
    "#for i in range(len(md0mdt)):\n",
    "#    f1.write(\"%5.5f\\t%5.5f\\n\" % (i*skip*dt, md0mdt[i]))\n",
    "#f1.close()"
   ]
  },
  {
   "cell_type": "markdown",
   "id": "51b054b7",
   "metadata": {},
   "source": [
    "## Plot the results"
   ]
  },
  {
   "cell_type": "code",
   "execution_count": 29,
   "id": "0b89b9e7",
   "metadata": {
    "tags": [
     "nbsphinx-thumbnail"
    ]
   },
   "outputs": [
    {
     "data": {
      "image/png": "[encoded data removed]",
      "text/plain": [
       "<Figure size 640x480 with 1 Axes>"
      ]
     },
     "metadata": {},
     "output_type": "display_data"
    }
   ],
   "source": [
    "time = np.arange(ctr*dt)\n",
    "\n",
    "plt.title(\"<MD(0)MD(t)>\")\n",
    "plt.plot(time,md0mdt, label=\"total\")\n",
    "plt.plot(time,md0mdt_cat, label=\"cation\")\n",
    "plt.plot(time,md0mdt_an, label=\"anion\")\n",
    "plt.legend();"
   ]
  }
 ],
 "metadata": {
  "kernelspec": {
   "display_name": "newanalysis-dev",
   "language": "python",
   "name": "newanalysis-dev"
  },
  "language_info": {
   "codemirror_mode": {
    "name": "ipython",
    "version": 3
   },
   "file_extension": ".py",
   "mimetype": "text/x-python",
   "name": "python",
   "nbconvert_exporter": "python",
   "pygments_lexer": "ipython3",
   "version": "3.10.0"
  }
 },
 "nbformat": 4,
 "nbformat_minor": 5
}
