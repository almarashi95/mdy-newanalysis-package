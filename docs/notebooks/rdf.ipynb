{
 "cells": [
  {
   "cell_type": "markdown",
   "id": "a1588ef9",
   "metadata": {},
   "source": [
    "{{ badge }}"
   ]
  },
  {
   "cell_type": "markdown",
   "id": "5515278d",
   "metadata": {},
   "source": [
    "# Radial distribution function"
   ]
  },
  {
   "cell_type": "markdown",
   "id": "1fb8776a",
   "metadata": {},
   "source": [
    "We calculate the radial distribution function (and other gfunctions)."
   ]
  },
  {
   "cell_type": "code",
   "execution_count": 27,
   "id": "ff3dba1f",
   "metadata": {},
   "outputs": [],
   "source": [
    "import time\n",
    "import sys\n",
    "import numpy as np\n",
    "import matplotlib.pyplot as plt\n",
    "from pathlib import Path\n",
    "import glob\n",
    "try:\n",
    "    import MDAnalysis\n",
    "except ModuleNotFoundError:\n",
    "    !conda install --yes --prefix {sys.prefix} MDAnalysis\n",
    "    import MDAnalysis"
   ]
  },
  {
   "cell_type": "markdown",
   "id": "95da3a41",
   "metadata": {},
   "source": [
    "The following functions are imported from out newanalysis extension:"
   ]
  },
  {
   "cell_type": "code",
   "execution_count": 3,
   "id": "20845533",
   "metadata": {},
   "outputs": [],
   "source": [
    "try:\n",
    "    from newanalysis.gfunction import RDF\n",
    "    from newanalysis.helpers import dipByResidue\n",
    "    from newanalysis.functions import atomsPerResidue, residueFirstAtom\n",
    "except ModuleNotFoundError as e:\n",
    "    print(\"Install newanalysis fist.\")\n",
    "    print(\"Go to the newanalysis_source folder and run:\")\n",
    "    print(\"conda activate newanalysis-dev\")\n",
    "    print(\"pip install .\")\n",
    "    raise(e)"
   ]
  },
  {
   "cell_type": "markdown",
   "id": "6f8c1f63",
   "metadata": {},
   "source": [
    "## Preprocessing"
   ]
  },
  {
   "cell_type": "markdown",
   "id": "d9a4e344",
   "metadata": {},
   "source": [
    "Next we create our MDAnalysis Universe:"
   ]
  },
  {
   "cell_type": "code",
   "execution_count": 5,
   "id": "d664f2b4",
   "metadata": {},
   "outputs": [],
   "source": [
    "base='../../test_cases/data/1mq_swm4_equilibrium/'\n",
    "psf=base+'mqs0_swm4_1000.psf'\n",
    "#Check PSF:\n",
    "if np.array_equal(MDAnalysis.Universe(psf).atoms.masses, MDAnalysis.Universe(psf).atoms.masses.astype(bool)):\n",
    "    print(\"Used wrong PSF format (masses unreadable!)\")\n",
    "    sys.exit()\n",
    "\n",
    "u=MDAnalysis.Universe(psf,base+\"1mq_swm4.dcd\")\n",
    "\n",
    "skip=20\n",
    "#dt=round(u.trajectory.dt,4)\n",
    "\n",
    "#n = int(u.trajectory.n_frames/skip)\n",
    "#if u.trajectory.n_frames%skip != 0:\n",
    "#    n+=1"
   ]
  },
  {
   "cell_type": "markdown",
   "id": "fe28f64e",
   "metadata": {},
   "source": [
    "Now we do the selections"
   ]
  },
  {
   "cell_type": "code",
   "execution_count": 6,
   "id": "998f92e6",
   "metadata": {},
   "outputs": [],
   "source": [
    "sel_solute=u.select_atoms(\"resname MQS0\")\n",
    "sel=u.select_atoms(\"resname SWM4\")\n",
    "\n",
    "nsolute=1\n",
    "nwat = sel.n_residues"
   ]
  },
  {
   "cell_type": "markdown",
   "id": "791aeff3",
   "metadata": {},
   "source": [
    "## Use the RDF class"
   ]
  },
  {
   "cell_type": "code",
   "execution_count": 15,
   "id": "5ef3bf49",
   "metadata": {},
   "outputs": [],
   "source": [
    "histo_min=0.0\n",
    "histo_dx=0.05\n",
    "histo_invdx=1.0/histo_dx\n",
    "histo_max=20.0\n",
    "boxl = np.float64(round(u.coord.dimensions[0],4))\n",
    "\n",
    "sol_wat = RDF([\"all\"],histo_min,histo_max,histo_dx,nsolute,nwat,nsolute,nwat,boxl)\n",
    "#could also specify a certain one:\n",
    "sol_wat_000 = RDF([\"000\"],histo_min,histo_max,histo_dx,nsolute,nwat,nsolute,nwat,boxl) #rdf\n",
    "#include the picture with the different functions!"
   ]
  },
  {
   "cell_type": "markdown",
   "id": "d9d5ef3c",
   "metadata": {},
   "source": [
    "some more needed variables"
   ]
  },
  {
   "cell_type": "code",
   "execution_count": 16,
   "id": "c908acd9",
   "metadata": {},
   "outputs": [],
   "source": [
    "charge_solute=sel_solute.charges\n",
    "charge_wat=sel.charges\n",
    "\n",
    "apr_solute = atomsPerResidue(sel_solute)\n",
    "rfa_solute = residueFirstAtom(sel_solute)\n",
    "apr_wat = atomsPerResidue(sel)\n",
    "rfa_wat = residueFirstAtom(sel)\n",
    "\n",
    "    \n",
    "mass_solute=sel_solute.masses\n",
    "mass_wat=sel.masses"
   ]
  },
  {
   "cell_type": "markdown",
   "id": "f5d1b632",
   "metadata": {},
   "source": [
    "Loop throguh the trajectory and get the center of masses"
   ]
  },
  {
   "cell_type": "code",
   "execution_count": 17,
   "id": "d78f9648",
   "metadata": {},
   "outputs": [
    {
     "name": "stdout",
     "output_type": "stream",
     "text": [
      "\n",
      "\u001b[1AFrame 0 of 1000 \tElapsed time: 0.00 hours\n",
      "\u001b[1AFrame 20 of 1000 \tElapsed time: 0.00 hours\n",
      "\u001b[1AFrame 40 of 1000 \tElapsed time: 0.00 hours\n",
      "\u001b[1AFrame 60 of 1000 \tElapsed time: 0.00 hours\n",
      "\u001b[1AFrame 80 of 1000 \tElapsed time: 0.00 hours\n",
      "\u001b[1AFrame 100 of 1000 \tElapsed time: 0.00 hours\n",
      "\u001b[1AFrame 120 of 1000 \tElapsed time: 0.00 hours\n",
      "\u001b[1AFrame 140 of 1000 \tElapsed time: 0.00 hours\n",
      "\u001b[1AFrame 160 of 1000 \tElapsed time: 0.00 hours\n",
      "\u001b[1AFrame 180 of 1000 \tElapsed time: 0.00 hours\n",
      "\u001b[1AFrame 200 of 1000 \tElapsed time: 0.00 hours\n",
      "\u001b[1AFrame 220 of 1000 \tElapsed time: 0.00 hours\n",
      "\u001b[1AFrame 240 of 1000 \tElapsed time: 0.00 hours\n",
      "\u001b[1AFrame 260 of 1000 \tElapsed time: 0.00 hours\n",
      "\u001b[1AFrame 280 of 1000 \tElapsed time: 0.00 hours\n",
      "\u001b[1AFrame 300 of 1000 \tElapsed time: 0.00 hours\n",
      "\u001b[1AFrame 320 of 1000 \tElapsed time: 0.00 hours\n",
      "\u001b[1AFrame 340 of 1000 \tElapsed time: 0.00 hours\n",
      "\u001b[1AFrame 360 of 1000 \tElapsed time: 0.00 hours\n",
      "\u001b[1AFrame 380 of 1000 \tElapsed time: 0.00 hours\n",
      "\u001b[1AFrame 400 of 1000 \tElapsed time: 0.00 hours\n",
      "\u001b[1AFrame 420 of 1000 \tElapsed time: 0.00 hours\n",
      "\u001b[1AFrame 440 of 1000 \tElapsed time: 0.00 hours\n",
      "\u001b[1AFrame 460 of 1000 \tElapsed time: 0.00 hours\n",
      "\u001b[1AFrame 480 of 1000 \tElapsed time: 0.00 hours\n",
      "\u001b[1AFrame 500 of 1000 \tElapsed time: 0.00 hours\n",
      "\u001b[1AFrame 520 of 1000 \tElapsed time: 0.00 hours\n",
      "\u001b[1AFrame 540 of 1000 \tElapsed time: 0.00 hours\n",
      "\u001b[1AFrame 560 of 1000 \tElapsed time: 0.00 hours\n",
      "\u001b[1AFrame 580 of 1000 \tElapsed time: 0.00 hours\n",
      "\u001b[1AFrame 600 of 1000 \tElapsed time: 0.00 hours\n",
      "\u001b[1AFrame 620 of 1000 \tElapsed time: 0.00 hours\n",
      "\u001b[1AFrame 640 of 1000 \tElapsed time: 0.00 hours\n",
      "\u001b[1AFrame 660 of 1000 \tElapsed time: 0.00 hours\n",
      "\u001b[1AFrame 680 of 1000 \tElapsed time: 0.00 hours\n",
      "\u001b[1AFrame 700 of 1000 \tElapsed time: 0.00 hours\n",
      "\u001b[1AFrame 720 of 1000 \tElapsed time: 0.00 hours\n",
      "\u001b[1AFrame 740 of 1000 \tElapsed time: 0.00 hours\n",
      "\u001b[1AFrame 760 of 1000 \tElapsed time: 0.00 hours\n",
      "\u001b[1AFrame 780 of 1000 \tElapsed time: 0.00 hours\n",
      "\u001b[1AFrame 800 of 1000 \tElapsed time: 0.00 hours\n",
      "\u001b[1AFrame 820 of 1000 \tElapsed time: 0.00 hours\n",
      "\u001b[1AFrame 840 of 1000 \tElapsed time: 0.00 hours\n",
      "\u001b[1AFrame 860 of 1000 \tElapsed time: 0.00 hours\n",
      "\u001b[1AFrame 880 of 1000 \tElapsed time: 0.00 hours\n",
      "\u001b[1AFrame 900 of 1000 \tElapsed time: 0.00 hours\n",
      "\u001b[1AFrame 920 of 1000 \tElapsed time: 0.00 hours\n",
      "\u001b[1AFrame 940 of 1000 \tElapsed time: 0.00 hours\n",
      "\u001b[1AFrame 960 of 1000 \tElapsed time: 0.00 hours\n",
      "\u001b[1AFrame 980 of 1000 \tElapsed time: 0.00 hours\n",
      "Passed time:  0.10477304458618164\n"
     ]
    }
   ],
   "source": [
    "start=time.time()\n",
    "print(\"\")\n",
    "\n",
    "for ts in u.trajectory[::skip]:\n",
    "    print(\"\\033[1AFrame %d of %d\" % (ts.frame,u.trajectory.n_frames), \"\\tElapsed time: %.2f hours\" % ((time.time()-start)/3600))\n",
    "    \n",
    "    # efficiently calculate center-of-mass coordinates and dipole moments\n",
    "    coor_wat = np.ascontiguousarray(sel.positions,dtype='double')\n",
    "    coor_solute = np.ascontiguousarray(sel_solute.positions,dtype='double')\n",
    "    com_wat=sel.center_of_mass(compound='residues')\n",
    "    com_solute=sel_solute.center_of_mass(compound='residues')\n",
    "    dip_wat=dipByResidue(coor_wat,charge_wat,mass_wat,nwat,apr_wat,rfa_wat,com_wat)\n",
    "    dip_solute=dipByResidue(coor_solute,charge_solute,mass_solute,nsolute,apr_solute,rfa_solute,com_solute)\n",
    "\n",
    "    #Alternatively:\n",
    "#    com_wat  = centerOfMassByResidue(sel,coor=coor_wat,masses=mass_wat,apr=apr_wat,rfa=rfa_wat)\n",
    "#    com_solute  = centerOfMassByResidue(sel_solute,coor=coor_solute,masses=mass_solute,apr=apr_solute,rfa=rfa_solute)\n",
    "#    dip_wat= dipoleMomentByResidue(sel,coor=coor_wat,charges=charge_wat,masses=mass_wat,com=com_wat,apr=apr_wat,rfa=rfa_wat)\n",
    "#    dip_solute=dipoleMomentByResidue(sel_solute,coor=coor_solute,charges=charge_solute,masses=mass_solute,com=com_solute,apr=apr_solute,rfa=rfa_solute)\n",
    "\n",
    "    sol_wat.calcFrame(com_solute,com_wat,dip_solute,dip_wat)\n",
    "\n",
    "print(\"Passed time: \",time.time()-start)\n",
    "\n",
    "Path(\"output\").mkdir(parents=True, exist_ok=True)\n",
    "sol_wat.write(\"output/rdf\")"
   ]
  },
  {
   "cell_type": "markdown",
   "id": "51b054b7",
   "metadata": {},
   "source": [
    "## Plot the results"
   ]
  },
  {
   "cell_type": "code",
   "execution_count": 19,
   "id": "0b89b9e7",
   "metadata": {
    "tags": [
     "nbsphinx-thumbnail"
    ]
   },
   "outputs": [
    {
     "data": {
      "image/png": "[encoded data removed]",
      "text/plain": [
       "<Figure size 640x480 with 1 Axes>"
      ]
     },
     "metadata": {},
     "output_type": "display_data"
    }
   ],
   "source": [
    "x,y = np.genfromtxt(\"output/rdf_g000.dat\", unpack=True)\n",
    "\n",
    "plt.title(\"Radial distribution function\")\n",
    "plt.plot(x,y, label=\"MQS0 - water\")\n",
    "plt.legend();"
   ]
  },
  {
   "cell_type": "markdown",
   "id": "66930374",
   "metadata": {},
   "source": [
    "**Cleanup**"
   ]
  },
  {
   "cell_type": "code",
   "execution_count": 26,
   "id": "7a3880e0",
   "metadata": {},
   "outputs": [],
   "source": [
    "for file in glob.glob(\"output/rdf*\"):\n",
    "    Path(file).unlink() #remove files"
   ]
  }
 ],
 "metadata": {
  "kernelspec": {
   "display_name": "newanalysis-dev",
   "language": "python",
   "name": "newanalysis-dev"
  },
  "language_info": {
   "codemirror_mode": {
    "name": "ipython",
    "version": 3
   },
   "file_extension": ".py",
   "mimetype": "text/x-python",
   "name": "python",
   "nbconvert_exporter": "python",
   "pygments_lexer": "ipython3",
   "version": "3.10.0"
  }
 },
 "nbformat": 4,
 "nbformat_minor": 5
}
