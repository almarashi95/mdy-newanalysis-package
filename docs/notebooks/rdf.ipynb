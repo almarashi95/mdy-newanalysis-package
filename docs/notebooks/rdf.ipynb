{
 "cells": [
  {
   "cell_type": "markdown",
   "id": "ac3d0ff3",
   "metadata": {},
   "source": [
    "# RDF"
   ]
  },
  {
   "cell_type": "code",
   "execution_count": 1,
   "id": "dd067907",
   "metadata": {},
   "outputs": [],
   "source": [
    "from newanalysis.gfunction import RDF"
   ]
  },
  {
   "cell_type": "code",
   "execution_count": null,
   "id": "ab0800b9",
   "metadata": {},
   "outputs": [],
   "source": []
  }
 ],
 "metadata": {
  "kernelspec": {
   "display_name": "newanalysis-dev",
   "language": "python",
   "name": "newanalysis-dev"
  },
  "language_info": {
   "codemirror_mode": {
    "name": "ipython",
    "version": 3
   },
   "file_extension": ".py",
   "mimetype": "text/x-python",
   "name": "python",
   "nbconvert_exporter": "python",
   "pygments_lexer": "ipython3",
   "version": "3.10.0"
  }
 },
 "nbformat": 4,
 "nbformat_minor": 5
}
